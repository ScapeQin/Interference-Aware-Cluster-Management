{
 "cells": [
  {
   "cell_type": "markdown",
   "metadata": {},
   "source": [
    "# 基于服务器IPS参数的强化学习(RL)推荐系统 - Version 20170823\n",
    "\n",
    "## 1. 实验背景介绍\n",
    "\n",
    "\n",
    "## 2. 实验设计\n",
    "\n",
    "\n",
    "## 3. 测试结果介绍 （400组=10种workloads\\*8种压力\\*5循环）\n",
    "\n",
    "在 IPS-rating-final.csv 文件中，\n",
    "\n",
    "1. 第一列代表各种 workloads ，如 workload_id=0 代表 名称为 bwaves 的workload.\n",
    "2. 第二列代表各种测试压力, 如 pressure_id=0 代表 CPU 压力。\n",
    "3. 第三列代表 （某压力下IPS／单独运行时IPS） 的百分制评分\n",
    "\n",
    "注：当前测试的七种压力（i.e., CPU, LL3 cache, memory）均由 ibench 测试集提供。\n",
    "\n",
    "## 4. 目标产出： \n",
    "\n",
    "### 一个 学习了400次之后的Q-table，当第401次任务来的时候，根据Q-table选择“去那里执行，最好最快”。\n"
   ]
  },
  {
   "cell_type": "markdown",
   "metadata": {},
   "source": [
    "## (1) 为 jupyter notebook 载入 python 需要的库"
   ]
  },
  {
   "cell_type": "code",
   "execution_count": 1,
   "metadata": {
    "collapsed": true
   },
   "outputs": [],
   "source": [
    "import numpy as np # linear algebra\n",
    "np.random.seed(0)\n",
    "import pandas as pd # data processing, CSV file I/O (e.g. pd.read_csv)\n",
    "# import matplotlib.pyplot as plt\n",
    "# import seaborn as sns\n",
    "# from sklearn.metrics import mean_squared_error\n",
    "# import math\n",
    "# from scipy import stats\n",
    "# %matplotlib inline  "
   ]
  },
  {
   "cell_type": "markdown",
   "metadata": {},
   "source": [
    "## (2) 载入测试数据\n"
   ]
  },
  {
   "cell_type": "code",
   "execution_count": 2,
   "metadata": {},
   "outputs": [
    {
     "name": "stdout",
     "output_type": "stream",
     "text": [
      "(400, 3)\n",
      "10 kinds of workloads\n",
      "8 kinds of pressures\n"
     ]
    }
   ],
   "source": [
    "# Load data from disk\n",
    "\n",
    "names = ['workload_id', 'pressure_id', 'rating']\n",
    "df = pd.read_csv('/Users/dong/Desktop/PhD-Research/体系-数据分析/Reinforcement_Learning_IPS_rating.csv',delimiter=\",\", names=names)\n",
    "\n",
    "print(df.shape)\n",
    "\n",
    "num_workloads = df.workload_id.unique().shape[0]\n",
    "num_pressures = df.pressure_id.unique().shape[0]\n",
    "\n",
    "print(num_workloads, \"kinds of workloads\")\n",
    "print(num_pressures, \"kinds of pressures\")"
   ]
  },
  {
   "cell_type": "markdown",
   "metadata": {},
   "source": [
    "## (3) 观察数据"
   ]
  },
  {
   "cell_type": "code",
   "execution_count": 3,
   "metadata": {},
   "outputs": [
    {
     "data": {
      "text/html": [
       "<div>\n",
       "<style>\n",
       "    .dataframe thead tr:only-child th {\n",
       "        text-align: right;\n",
       "    }\n",
       "\n",
       "    .dataframe thead th {\n",
       "        text-align: left;\n",
       "    }\n",
       "\n",
       "    .dataframe tbody tr th {\n",
       "        vertical-align: top;\n",
       "    }\n",
       "</style>\n",
       "<table border=\"1\" class=\"dataframe\">\n",
       "  <thead>\n",
       "    <tr style=\"text-align: right;\">\n",
       "      <th></th>\n",
       "      <th>workload_id</th>\n",
       "      <th>pressure_id</th>\n",
       "      <th>rating</th>\n",
       "    </tr>\n",
       "  </thead>\n",
       "  <tbody>\n",
       "    <tr>\n",
       "      <th>0</th>\n",
       "      <td>0</td>\n",
       "      <td>0</td>\n",
       "      <td>54</td>\n",
       "    </tr>\n",
       "    <tr>\n",
       "      <th>1</th>\n",
       "      <td>1</td>\n",
       "      <td>0</td>\n",
       "      <td>50</td>\n",
       "    </tr>\n",
       "    <tr>\n",
       "      <th>2</th>\n",
       "      <td>4</td>\n",
       "      <td>0</td>\n",
       "      <td>50</td>\n",
       "    </tr>\n",
       "    <tr>\n",
       "      <th>3</th>\n",
       "      <td>6</td>\n",
       "      <td>0</td>\n",
       "      <td>50</td>\n",
       "    </tr>\n",
       "    <tr>\n",
       "      <th>4</th>\n",
       "      <td>7</td>\n",
       "      <td>0</td>\n",
       "      <td>95</td>\n",
       "    </tr>\n",
       "  </tbody>\n",
       "</table>\n",
       "</div>"
      ],
      "text/plain": [
       "   workload_id  pressure_id  rating\n",
       "0            0            0      54\n",
       "1            1            0      50\n",
       "2            4            0      50\n",
       "3            6            0      50\n",
       "4            7            0      95"
      ]
     },
     "execution_count": 3,
     "metadata": {},
     "output_type": "execute_result"
    }
   ],
   "source": [
    "df.head()"
   ]
  },
  {
   "cell_type": "code",
   "execution_count": 4,
   "metadata": {},
   "outputs": [
    {
     "data": {
      "text/html": [
       "<div>\n",
       "<style>\n",
       "    .dataframe thead tr:only-child th {\n",
       "        text-align: right;\n",
       "    }\n",
       "\n",
       "    .dataframe thead th {\n",
       "        text-align: left;\n",
       "    }\n",
       "\n",
       "    .dataframe tbody tr th {\n",
       "        vertical-align: top;\n",
       "    }\n",
       "</style>\n",
       "<table border=\"1\" class=\"dataframe\">\n",
       "  <thead>\n",
       "    <tr style=\"text-align: right;\">\n",
       "      <th></th>\n",
       "      <th>workload_id</th>\n",
       "      <th>pressure_id</th>\n",
       "      <th>rating</th>\n",
       "    </tr>\n",
       "  </thead>\n",
       "  <tbody>\n",
       "    <tr>\n",
       "      <th>395</th>\n",
       "      <td>5</td>\n",
       "      <td>7</td>\n",
       "      <td>100</td>\n",
       "    </tr>\n",
       "    <tr>\n",
       "      <th>396</th>\n",
       "      <td>8</td>\n",
       "      <td>7</td>\n",
       "      <td>100</td>\n",
       "    </tr>\n",
       "    <tr>\n",
       "      <th>397</th>\n",
       "      <td>9</td>\n",
       "      <td>7</td>\n",
       "      <td>100</td>\n",
       "    </tr>\n",
       "    <tr>\n",
       "      <th>398</th>\n",
       "      <td>3</td>\n",
       "      <td>7</td>\n",
       "      <td>100</td>\n",
       "    </tr>\n",
       "    <tr>\n",
       "      <th>399</th>\n",
       "      <td>2</td>\n",
       "      <td>7</td>\n",
       "      <td>100</td>\n",
       "    </tr>\n",
       "  </tbody>\n",
       "</table>\n",
       "</div>"
      ],
      "text/plain": [
       "     workload_id  pressure_id  rating\n",
       "395            5            7     100\n",
       "396            8            7     100\n",
       "397            9            7     100\n",
       "398            3            7     100\n",
       "399            2            7     100"
      ]
     },
     "execution_count": 4,
     "metadata": {},
     "output_type": "execute_result"
    }
   ],
   "source": [
    "df.tail()"
   ]
  },
  {
   "cell_type": "markdown",
   "metadata": {},
   "source": [
    "## (4) 建立 Q-table\n",
    "\n",
    "### 在Q-table中，纵轴是各类states，横轴是各类action，RL这种算法的产出就是在某时刻，当遇到某种state，我们应该根据Q-table作出怎样的决策。\n",
    "\n",
    "### 本次设计，“我们认为” 第一列workload_id为state，pressure_id为我们愿意选择的action（愿意在那种pressure下）。"
   ]
  },
  {
   "cell_type": "code",
   "execution_count": 1,
   "metadata": {},
   "outputs": [],
   "source": [
    "class QLearningTable:\n",
    "    def __init__(self, actions, learning_rate=0.01, reward_decay=0.9, e_greedy=0.9):\n",
    "        # In Hipster, e_greedy=1.0, so that each time, the best one(action) will always be choosed.\n",
    "        self.actions = actions  # a list\n",
    "        self.lr = learning_rate  # 学习率\n",
    "        self.gamma = reward_decay # 奖励衰减\n",
    "        self.epsilon = e_greedy  # 贪婪度\n",
    "        self.q_table = pd.DataFrame(columns=self.actions)  # 初始 q_table\n",
    "\n",
    "    def choose_action(self, observation):\n",
    "        # action selection\n",
    "        # 选择 action      \n",
    "        self.check_state_exist(observation)\n",
    "        # 检测本 state 是否在 q_table 中存在(见后面标题内容)\n",
    "        if np.random.uniform() < self.epsilon:\n",
    "            # choose best action\n",
    "            state_action = self.q_table.ix[observation, :]\n",
    "            state_action = state_action.reindex(np.random.permutation(state_action.index))     \n",
    "            # some actions have same value\n",
    "            action = state_action.argmax()\n",
    "        else:\n",
    "            # choose random action\n",
    "            action = np.random.choice(self.actions)\n",
    "        return action\n",
    "\n",
    "    def learn(self, s, a, r, s_):\n",
    "        # s -- current state\n",
    "        # a -- action \n",
    "        # r -- reward\n",
    "        # s_ -- state at next \n",
    "        self.check_state_exist(s_)\n",
    "        q_predict = self.q_table.ix[s, a]\n",
    "        # if s_ != 'terminal':\n",
    "        q_target = r + self.gamma * self.q_table.ix[s_, :].max()  # next state is not terminal\n",
    "        #else:\n",
    "            #q_target = r  # next state is terminal\n",
    "        self.q_table.ix[s, a] += self.lr * (q_target - q_predict)  # update\n",
    "\n",
    "    def check_state_exist(self, state):\n",
    "        # 检测本 state 是否在 q_table 中存在(见后面标题内容)\n",
    "        # 在 本推荐系统中，是检测 一个 workload 是否存在，不存在\n",
    "        if state not in self.q_table.index:\n",
    "            # append new state to q table\n",
    "            self.q_table = self.q_table.append(\n",
    "                pd.Series(\n",
    "                    [0]*len(self.actions),\n",
    "                    index=self.q_table.columns,\n",
    "                    name=state,\n",
    "                )\n",
    "            )"
   ]
  },
  {
   "cell_type": "markdown",
   "metadata": {},
   "source": [
    "## 在时序的400个回合中，不断更新 Q-table"
   ]
  },
  {
   "cell_type": "code",
   "execution_count": 10,
   "metadata": {
    "collapsed": true
   },
   "outputs": [],
   "source": [
    "def update():\n",
    "    # 学习 100 回合\n",
    "    for episode in range(100):\n",
    "        # 初始化 state 的观测值\n",
    "        observation = env.reset()\n",
    "\n",
    "        while True:\n",
    "            # 更新可视化环境\n",
    "            # env.render()\n",
    "\n",
    "            # RL 大脑根据 state 的观测值挑选 action\n",
    "            action = RL.choose_action(str(observation))\n",
    "\n",
    "            # 探索者在环境中实施这个 action, 并得到环境返回的下一个 state 观测值, reward 和 done (是否是掉下地狱或者升上天堂)\n",
    "            observation_, reward, done = env.step(action)\n",
    "\n",
    "            # RL 从这个序列 (state, action, reward, state_) 中学习\n",
    "            RL.learn(str(observation), action, reward, str(observation_))\n",
    "\n",
    "            # 将下一个 state 的值传到下一次循环\n",
    "            observation = observation_\n",
    "\n",
    "            # 如果掉下地狱或者升上天堂, 这回合就结束了\n",
    "            if done:\n",
    "                break\n",
    "\n",
    "    # 结束游戏并关闭窗口\n",
    "    # print('game over')\n",
    "    # env.destroy()\n",
    "\n"
   ]
  },
  {
   "cell_type": "markdown",
   "metadata": {},
   "source": [
    "## 此时，401次来临，该如何“做出推荐”"
   ]
  },
  {
   "cell_type": "code",
   "execution_count": 11,
   "metadata": {},
   "outputs": [
    {
     "ename": "NameError",
     "evalue": "name 'Maze' is not defined",
     "output_type": "error",
     "traceback": [
      "\u001b[0;31m---------------------------------------------------------------------------\u001b[0m",
      "\u001b[0;31mNameError\u001b[0m                                 Traceback (most recent call last)",
      "\u001b[0;32m<ipython-input-11-e78acf4d87db>\u001b[0m in \u001b[0;36m<module>\u001b[0;34m()\u001b[0m\n\u001b[1;32m      1\u001b[0m \u001b[0;32mif\u001b[0m \u001b[0m__name__\u001b[0m \u001b[0;34m==\u001b[0m \u001b[0;34m\"__main__\"\u001b[0m\u001b[0;34m:\u001b[0m\u001b[0;34m\u001b[0m\u001b[0m\n\u001b[1;32m      2\u001b[0m     \u001b[0;31m# 定义环境 env 和 RL 方式\u001b[0m\u001b[0;34m\u001b[0m\u001b[0;34m\u001b[0m\u001b[0m\n\u001b[0;32m----> 3\u001b[0;31m     \u001b[0menv\u001b[0m \u001b[0;34m=\u001b[0m \u001b[0mMaze\u001b[0m\u001b[0;34m(\u001b[0m\u001b[0;34m)\u001b[0m\u001b[0;34m\u001b[0m\u001b[0m\n\u001b[0m\u001b[1;32m      4\u001b[0m     \u001b[0mRL\u001b[0m \u001b[0;34m=\u001b[0m \u001b[0mQLearningTable\u001b[0m\u001b[0;34m(\u001b[0m\u001b[0mactions\u001b[0m\u001b[0;34m=\u001b[0m\u001b[0mlist\u001b[0m\u001b[0;34m(\u001b[0m\u001b[0mrange\u001b[0m\u001b[0;34m(\u001b[0m\u001b[0menv\u001b[0m\u001b[0;34m.\u001b[0m\u001b[0mn_actions\u001b[0m\u001b[0;34m)\u001b[0m\u001b[0;34m)\u001b[0m\u001b[0;34m)\u001b[0m\u001b[0;34m\u001b[0m\u001b[0m\n\u001b[1;32m      5\u001b[0m \u001b[0;34m\u001b[0m\u001b[0m\n",
      "\u001b[0;31mNameError\u001b[0m: name 'Maze' is not defined"
     ]
    }
   ],
   "source": [
    "if __name__ == \"__main__\":\n",
    "    # 定义环境 env 和 RL 方式\n",
    "    env = Maze()\n",
    "    RL = QLearningTable(actions=list(range(env.n_actions)))\n",
    "\n",
    "    # 开始可视化环境 env\n",
    "    env.after(100, update)\n",
    "    env.mainloop()"
   ]
  },
  {
   "cell_type": "markdown",
   "metadata": {},
   "source": []
  },
  {
   "cell_type": "code",
   "execution_count": null,
   "metadata": {
    "collapsed": true
   },
   "outputs": [],
   "source": []
  },
  {
   "cell_type": "code",
   "execution_count": null,
   "metadata": {
    "collapsed": true
   },
   "outputs": [],
   "source": []
  }
 ],
 "metadata": {
  "kernelspec": {
   "display_name": "Python 3",
   "language": "python",
   "name": "python3"
  },
  "language_info": {
   "codemirror_mode": {
    "name": "ipython",
    "version": 3
   },
   "file_extension": ".py",
   "mimetype": "text/x-python",
   "name": "python",
   "nbconvert_exporter": "python",
   "pygments_lexer": "ipython3",
   "version": "3.6.1"
  }
 },
 "nbformat": 4,
 "nbformat_minor": 2
}
